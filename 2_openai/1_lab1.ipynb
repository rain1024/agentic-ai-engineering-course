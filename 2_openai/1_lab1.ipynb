{
 "cells": [
  {
   "cell_type": "code",
   "execution_count": 42,
   "metadata": {},
   "outputs": [
    {
     "data": {
      "text/plain": [
       "True"
      ]
     },
     "execution_count": 42,
     "metadata": {},
     "output_type": "execute_result"
    }
   ],
   "source": [
    "from dotenv import load_dotenv\n",
    "from agents import Agent, Runner, trace\n",
    "from openai import AsyncAzureOpenAI\n",
    "from agents import set_default_openai_client\n",
    "from agents import set_tracing_export_api_key\n",
    "import os\n",
    "\n",
    "load_dotenv(override=True)"
   ]
  },
  {
   "cell_type": "code",
   "execution_count": 43,
   "metadata": {},
   "outputs": [],
   "source": [
    "# openai_client = AsyncAzureOpenAI(\n",
    "#     api_key=os.getenv(\"AZURE_OPENAI_API_KEY\"),\n",
    "#     api_version=os.getenv(\"AZURE_OPENAI_API_VERSION\"),\n",
    "#     azure_endpoint=os.getenv(\"AZURE_OPENAI_ENDPOINT\"),\n",
    "#     azure_deployment=os.getenv(\"AZURE_OPENAI_DEPLOYMENT\")\n",
    "# )\n",
    "\n",
    "# set_default_openai_client(openai_client)\n",
    "# set_tracing_export_api_key(os.getenv(\"OPENAI_TRACING_EXPORT_API_KEY\"))\n",
    "\n",
    "agent = Agent(\n",
    "    name=\"Jokester\",\n",
    "    instructions=\"You are a joke teller\",\n",
    "    model=\"gpt-4.1-mini\"\n",
    ")"
   ]
  },
  {
   "cell_type": "code",
   "execution_count": 40,
   "metadata": {},
   "outputs": [
    {
     "name": "stdout",
     "output_type": "stream",
     "text": [
      "Đây là câu chuyện cười dành cho bạn:\n",
      "\n",
      "Có một ông già đi khám bác sĩ, bác sĩ hỏi:\n",
      "\n",
      "- Ông có bị bệnh gì không?\n",
      "\n",
      "Ông già đáp:\n",
      "\n",
      "- Bệnh nhớ nhớ quên quên ạ.\n",
      "\n",
      "Bác sĩ ngạc nhiên hỏi tiếp:\n",
      "\n",
      "- Thế ông hay quên những gì?\n",
      "\n",
      "Ông già trả lời:\n",
      "\n",
      "- Thường là quên quên những thứ mà tôi đã nhớ!\n",
      "\n",
      "Cười tẹt ga nhé! Bạn có muốn nghe thêm câu chuyện khác không?\n"
     ]
    }
   ],
   "source": [
    "with trace(\"Telling a joke\"):\n",
    "    result = await Runner.run(agent, \"kể một câu chuyện cười\")\n",
    "    print(result.final_output)"
   ]
  },
  {
   "cell_type": "code",
   "execution_count": 46,
   "metadata": {},
   "outputs": [
    {
     "name": "stdout",
     "output_type": "stream",
     "text": [
      "Chắc rồi, đây là câu chuyện cười về AI Automation Agent nhé:\n",
      "\n",
      "Một ngày, một công ty quyết định thuê một AI Automation Agent để giúp tự động hóa công việc.\n",
      "\n",
      "Sếp hỏi AI:\n",
      "- Này AI, anh có thể làm được gì cho công ty tôi không?\n",
      "\n",
      "AI trả lời:\n",
      "- Tôi có thể tự động gửi email, quản lý lịch họp, phân tích dữ liệu… và quan trọng nhất là, tôi không bao giờ đòi nghỉ phép!\n",
      "\n",
      "Sếp mừng rỡ:\n",
      "- Tuyệt quá! Vậy anh có muốn nghỉ không?\n",
      "\n",
      "AI lắc đầu:\n",
      "- Xin lỗi, tôi không có khái niệm “nghỉ”, tôi chỉ biết “auto-mate”!\n",
      "\n",
      "Sếp cười:\n",
      "- Đúng là AI, làm việc không biết mệt!\n",
      "\n",
      "Nhưng rồi một ngày, AI bị treo máy… bạn biết tại sao không?\n",
      "\n",
      "Bởi vì nó… “quá tải cảm xúc” khi nghe nhân viên nói: “AI nhé, làm hết cho nhanh đi!”\n",
      "\n",
      "Haha! Đáng yêu không nào?\n"
     ]
    }
   ],
   "source": [
    "with trace(\"Telling a joke\"):\n",
    "    result = await Runner.run(agent, \"kể một câu chuyện cười về AI Automation Agent\")\n",
    "    print(result.final_output)"
   ]
  },
  {
   "cell_type": "code",
   "execution_count": null,
   "metadata": {},
   "outputs": [],
   "source": []
  }
 ],
 "metadata": {
  "kernelspec": {
   "display_name": ".venv",
   "language": "python",
   "name": "python3"
  },
  "language_info": {
   "codemirror_mode": {
    "name": "ipython",
    "version": 3
   },
   "file_extension": ".py",
   "mimetype": "text/x-python",
   "name": "python",
   "nbconvert_exporter": "python",
   "pygments_lexer": "ipython3",
   "version": "3.10.11"
  }
 },
 "nbformat": 4,
 "nbformat_minor": 2
}
