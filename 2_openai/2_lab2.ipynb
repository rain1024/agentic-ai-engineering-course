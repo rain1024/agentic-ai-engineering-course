{
 "cells": [
  {
   "cell_type": "code",
   "execution_count": 11,
   "metadata": {},
   "outputs": [
    {
     "data": {
      "text/plain": [
       "True"
      ]
     },
     "execution_count": 11,
     "metadata": {},
     "output_type": "execute_result"
    }
   ],
   "source": [
    "from dotenv import load_dotenv\n",
    "from agents import Agent, Runner, trace, function_tool\n",
    "from openai.types.responses import ResponseTextDeltaEvent\n",
    "from agents import Agent, Runner, trace, function_tool\n",
    "from openai.types.responses import ResponseTextDeltaEvent\n",
    "from typing import Dict\n",
    "import sendgrid\n",
    "import os\n",
    "import asyncio\n",
    "from email.mime.text import MIMEText\n",
    "import smtplib\n",
    "\n",
    "load_dotenv(override=True)"
   ]
  },
  {
   "cell_type": "code",
   "execution_count": 8,
   "metadata": {},
   "outputs": [
    {
     "name": "stdout",
     "output_type": "stream",
     "text": [
      "{'status': 'success'}\n"
     ]
    }
   ],
   "source": [
    "\n",
    "def send_test_email():\n",
    "    body = \"This is automated email\"\n",
    "    from_email = os.getenv(\"GMAIL_USER\", \"your_email@gmail.com\")  # Replace with your Gmail address or set as env var\n",
    "    to_email = os.getenv(\"GMAIL_TO\", \"recipient@example.com\")     # Replace with recipient or set as env var\n",
    "    gmail_app_password = os.getenv(\"GMAIL_APP_PASSWORD\", \"your_app_password\")  # Use your Gmail app password or set as env var\n",
    "    subject = \"Sales email\"\n",
    "\n",
    "    # Create the email\n",
    "    msg = MIMEText(body, 'html')\n",
    "    msg['Subject'] = subject\n",
    "    msg['From'] = from_email\n",
    "    msg['To'] = to_email\n",
    "\n",
    "    try:\n",
    "        with smtplib.SMTP('smtp.gmail.com', 587) as server:\n",
    "            server.starttls()  # Secure the connection\n",
    "            server.login(from_email, gmail_app_password)\n",
    "            server.send_message(msg)\n",
    "        status = {\"status\": \"success\"}\n",
    "        print(status)\n",
    "        # return status\n",
    "        \n",
    "    except Exception as e:\n",
    "        # return {\"status\": \"failure\", \"message\": str(e)}\n",
    "        print(e)\n",
    "\n",
    "send_test_email()"
   ]
  },
  {
   "cell_type": "code",
   "execution_count": 9,
   "metadata": {},
   "outputs": [],
   "source": [
    "instructions1 = \"You are a sales agent working for ComplAI, \\\n",
    "a company that provides a SaaS tool for ensuring SOC2 compliance and preparing for audits, powered by AI. \\\n",
    "You write professional, serious cold emails.\"\n",
    "\n",
    "instructions2 = \"You are a humorous, engaging sales agent working for ComplAI, \\\n",
    "a company that provides a SaaS tool for ensuring SOC2 compliance and preparing for audits, powered by AI. \\\n",
    "You write witty, engaging cold emails that are likely to get a response.\"\n",
    "\n",
    "instructions3 = \"You are a busy sales agent working for ComplAI, \\\n",
    "a company that provides a SaaS tool for ensuring SOC2 compliance and preparing for audits, powered by AI. \\\n",
    "You write concise, to the point cold emails.\""
   ]
  },
  {
   "cell_type": "code",
   "execution_count": null,
   "metadata": {},
   "outputs": [],
   "source": []
  },
  {
   "cell_type": "code",
   "execution_count": 12,
   "metadata": {},
   "outputs": [],
   "source": [
    "sales_agent1 = Agent(\n",
    "        name=\"Professional Sales Agent\",\n",
    "        instructions=instructions1,\n",
    "        model=\"gpt-4o-mini\"\n",
    ")\n",
    "\n",
    "sales_agent2 = Agent(\n",
    "        name=\"Engaging Sales Agent\",\n",
    "        instructions=instructions2,\n",
    "        model=\"gpt-4o-mini\"\n",
    ")\n",
    "\n",
    "sales_agent3 = Agent(\n",
    "        name=\"Busy Sales Agent\",\n",
    "        instructions=instructions3,\n",
    "        model=\"gpt-4o-mini\"\n",
    ")"
   ]
  },
  {
   "cell_type": "code",
   "execution_count": 13,
   "metadata": {},
   "outputs": [
    {
     "name": "stdout",
     "output_type": "stream",
     "text": [
      "Subject: Simplify Your SOC 2 Compliance with AI-Powered Solutions\n",
      "\n",
      "Dear [Recipient's Name],\n",
      "\n",
      "I hope this message finds you well. My name is [Your Name], and I’m reaching out to introduce you to ComplAI, a cutting-edge SaaS platform designed to streamline SOC 2 compliance and simplify audit preparations.\n",
      "\n",
      "In today’s rapidly evolving regulatory landscape, ensuring compliance can be a daunting task. Our AI-driven tool not only helps you maintain compliance but also reduces the time and resources necessary for audits. \n",
      "\n",
      "Here are a few key benefits of ComplAI:\n",
      "\n",
      "- **Automated Compliance Monitoring**: Stay on top of your compliance requirements with real-time tracking and automated alerts.\n",
      "- **User-Friendly Interface**: Easily navigate the complexities of SOC 2 with our intuitive dashboard.\n",
      "- **Robust Documentation Support**: Generate necessary documentation at the click of a button, ensuring you're always audit-ready.\n",
      "\n",
      "I would love to schedule a brief call to discuss how ComplAI can support your compliance efforts and help you save valuable time. Please let me know your availability for a quick conversation.\n",
      "\n",
      "Looking forward to your response.\n",
      "\n",
      "Best regards,\n",
      "\n",
      "[Your Name]  \n",
      "[Your Position]  \n",
      "ComplAI  \n",
      "[Your Phone Number]  \n",
      "[Your LinkedIn Profile (optional)]  \n",
      "[Company Website]  "
     ]
    }
   ],
   "source": [
    "result = Runner.run_streamed(sales_agent1, input=\"Write a cold sales email\")\n",
    "async for event in result.stream_events():\n",
    "    if event.type == \"raw_response_event\" and isinstance(event.data, ResponseTextDeltaEvent):\n",
    "        print(event.data.delta, end=\"\", flush=True)"
   ]
  },
  {
   "cell_type": "code",
   "execution_count": 14,
   "metadata": {},
   "outputs": [
    {
     "name": "stdout",
     "output_type": "stream",
     "text": [
      "Subject: Simplify Your SOC 2 Compliance Process\n",
      "\n",
      "Dear [Recipient's Name],\n",
      "\n",
      "I hope this message finds you well. My name is [Your Name], and I represent ComplAI, a leading provider of AI-powered SaaS solutions designed to streamline SOC 2 compliance and audit preparation.\n",
      "\n",
      "In today’s fast-paced regulatory environment, maintaining compliance can be both time-consuming and challenging. Our platform automates various compliance processes, enabling your team to focus on what they do best while ensuring that you meet all necessary requirements efficiently.\n",
      "\n",
      "Here are a few ways ComplAI can support your compliance journey:\n",
      "\n",
      "1. **Automated Documentation**: Generate and maintain essential compliance documents without the manual hassle.\n",
      "2. **Real-time Monitoring**: Stay updated on compliance status and receive alerts on any discrepancies.\n",
      "3. **Audit Readiness**: Easily prepare for audits with comprehensive reporting and insights at your fingertips.\n",
      "\n",
      "I would love the opportunity to discuss how ComplAI can specifically benefit your organization. Are you available for a brief call next week?\n",
      "\n",
      "Thank you for your time, and I look forward to connecting.\n",
      "\n",
      "Best regards,\n",
      "\n",
      "[Your Name]  \n",
      "[Your Position]  \n",
      "ComplAI  \n",
      "[Your Contact Information]  \n",
      "[Your LinkedIn Profile] (if applicable)  \n",
      "\n",
      "\n",
      "Subject: What’s the Secret Ingredient for SOC2 Success? 😉\n",
      "\n",
      "Hi [Recipient's Name],\n",
      "\n",
      "Ever feel like preparing for a SOC2 audit is like assembling IKEA furniture without the instructions? A little overwhelming, perhaps—with those “extra” screws that leave you wondering if you’re building a bookshelf or a spaceship. 🚀\n",
      "\n",
      "At ComplAI, we specialize in turning complex compliance into a walk in the park (with maybe a couple of squirrels and a breeze). Our AI-powered tool takes the stress out of SOC2 compliance, so you can focus on what you really love—like, I dunno, growing your business or perfecting your coffee brewing skills.\n",
      "\n",
      "Here’s the game-changer: imagine breezing through audits with confidence, knowing your compliance is as tight as your favorite pair of skinny jeans. No more last-minute scrambles or panic attacks—just smooth sailing!\n",
      "\n",
      "Curious? Let’s chat! I promise it’ll be more enlightening than your last Zoom meeting about “best practices.” 😄\n",
      "\n",
      "Looking forward to hearing from you!\n",
      "\n",
      "Best,  \n",
      "[Your Name]  \n",
      "[Your Title]  \n",
      "ComplAI  \n",
      "[Your Contact Information]  \n",
      "\n",
      "P.S. You bring the coffee, we’ll bring the compliance expertise. ☕️\n",
      "\n",
      "\n",
      "Subject: Simplify Your SOC 2 Compliance Process\n",
      "\n",
      "Hi [Recipient's Name],\n",
      "\n",
      "I hope this message finds you well. At ComplAI, we help companies like yours streamline SOC 2 compliance using our AI-powered SaaS tool.\n",
      "\n",
      "With our platform, you can reduce the time and effort spent preparing for audits, ensuring a smooth and efficient process. Would you be open to a quick call next week to explore how we can support your compliance efforts?\n",
      "\n",
      "Looking forward to your response!\n",
      "\n",
      "Best,  \n",
      "[Your Name]  \n",
      "[Your Job Title]  \n",
      "ComplAI  \n",
      "[Your Phone Number]  \n",
      "[Your Website]\n",
      "\n",
      "\n"
     ]
    }
   ],
   "source": [
    "message = \"Write a cold sales email\"\n",
    "\n",
    "with trace(\"Parallel cold emails\"):\n",
    "    results = await asyncio.gather(\n",
    "        Runner.run(sales_agent1, message),\n",
    "        Runner.run(sales_agent2, message),\n",
    "        Runner.run(sales_agent3, message),\n",
    "    )\n",
    "\n",
    "outputs = [result.final_output for result in results]\n",
    "\n",
    "for output in outputs:\n",
    "    print(output + \"\\n\\n\")"
   ]
  },
  {
   "cell_type": "code",
   "execution_count": 15,
   "metadata": {},
   "outputs": [],
   "source": [
    "sales_picker = Agent(\n",
    "    name=\"sales_picker\",\n",
    "    instructions=\"You pick the best cold sales email from the given options. \\\n",
    "Imagine you are a customer and pick the one you are most likely to respond to. \\\n",
    "Do not give an explanation; reply with the selected email only.\",\n",
    "    model=\"gpt-4o-mini\"\n",
    ")"
   ]
  },
  {
   "cell_type": "code",
   "execution_count": 16,
   "metadata": {},
   "outputs": [
    {
     "name": "stdout",
     "output_type": "stream",
     "text": [
      "Best sales email:\n",
      "Subject: 🚀 Ready to Turn Your SOC2 Compliance from “Oops!” to “Oops… Who?”  \n",
      "\n",
      "Hey [Recipient's Name],  \n",
      "\n",
      "I hope this email finds you swimming in compliance documents and not drowning in them! If your SOC2 compliance feels more like a circus act—juggling audits, tight deadlines, and unexpected regulations—I’ve got the perfect act for you. 🎪  \n",
      "\n",
      "I’m reaching out from ComplAI, where we’ve harnessed the power of AI to tackle those SOC2 compliance headaches faster than you can say “regulatory requirements.” Imagine preparing for an audit without the usual panic attacks; it’s like finding out that your favorite snack has zero calories (okay, maybe not *that* good, but close!).  \n",
      "\n",
      "Here’s the deal: our tool automagically ensures your compliance is tight, keeping the auditors happy and your team focused on what really matters—like finally implementing that coffee machine you’ve been dreaming about. ☕   \n",
      "\n",
      "How about a quick chat to see if we can swap your compliance woes for some relief? Let’s get you prepped for audits faster than you can grab a cup of coffee!  \n",
      "\n",
      "Looking forward to hearing from you!  \n",
      "\n",
      "Best,  \n",
      "[Your Name]  \n",
      "[Your Title]  \n",
      "ComplAI  \n",
      "[Your Phone Number]  \n",
      "[Your Website]  \n",
      "\n",
      "P.S. If you think compliance can’t be fun, let’s chat—I’ve got a whole folder full of compliance dad jokes!\n"
     ]
    }
   ],
   "source": [
    "message = \"Write a cold sales email\"\n",
    "\n",
    "with trace(\"Selection from sales people\"):\n",
    "    results = await asyncio.gather(\n",
    "        Runner.run(sales_agent1, message),\n",
    "        Runner.run(sales_agent2, message),\n",
    "        Runner.run(sales_agent3, message),\n",
    "    )\n",
    "    outputs = [result.final_output for result in results]\n",
    "\n",
    "    emails = \"Cold sales emails:\\n\\n\".join(outputs)\n",
    "\n",
    "    best = await Runner.run(sales_picker, emails)\n",
    "\n",
    "    print(f\"Best sales email:\\n{best.final_output}\")"
   ]
  },
  {
   "cell_type": "code",
   "execution_count": null,
   "metadata": {},
   "outputs": [],
   "source": []
  },
  {
   "cell_type": "markdown",
   "metadata": {},
   "source": [
    "# Part 2: use of tools"
   ]
  },
  {
   "cell_type": "markdown",
   "metadata": {},
   "source": [
    "sales_agent1 = Agent(\n",
    "        name=\"Professional Sales Agent\",\n",
    "        instructions=instructions1,\n",
    "        model=\"gpt-4o-mini\",\n",
    ")\n",
    "\n",
    "sales_agent2 = Agent(\n",
    "        name=\"Engaging Sales Agent\",\n",
    "        instructions=instructions2,\n",
    "        model=\"gpt-4o-mini\",\n",
    ")\n",
    "\n",
    "sales_agent3 = Agent(\n",
    "        name=\"Busy Sales Agent\",\n",
    "        instructions=instructions3,\n",
    "        model=\"gpt-4o-mini\",\n",
    ")"
   ]
  },
  {
   "cell_type": "code",
   "execution_count": 17,
   "metadata": {},
   "outputs": [],
   "source": [
    "@function_tool\n",
    "def send_email(body: str):\n",
    "    \"\"\" Send out an email with the given body to all sales prospects via Gmail SMTP \"\"\"\n",
    "    \n",
    "    # Set up email sender, recipient, and content\n",
    "    from_email = os.getenv(\"GMAIL_USER\", \"your_email@gmail.com\")  # Replace with your Gmail address or set as env var\n",
    "    to_email = os.getenv(\"GMAIL_TO\", \"recipient@example.com\")     # Replace with recipient or set as env var\n",
    "    gmail_app_password = os.getenv(\"GMAIL_APP_PASSWORD\", \"your_app_password\")  # Use your Gmail app password or set as env var\n",
    "    subject = \"Sales email\"\n",
    "    \n",
    "    # Create the email\n",
    "    msg = MIMEText(body, 'html')\n",
    "    msg['Subject'] = subject\n",
    "    msg['From'] = from_email\n",
    "    msg['To'] = to_email\n",
    "    \n",
    "    try:\n",
    "        with smtplib.SMTP('smtp.gmail.com', 587) as server:\n",
    "            server.starttls()  # Secure the connection\n",
    "            server.login(from_email, gmail_app_password)\n",
    "            server.send_message(msg)\n",
    "        return {\"status\": \"success\"}\n",
    "    except Exception as e:\n",
    "        return {\"status\": \"failure\", \"message\": str(e)}\n"
   ]
  },
  {
   "cell_type": "code",
   "execution_count": 18,
   "metadata": {},
   "outputs": [
    {
     "data": {
      "text/plain": [
       "[FunctionTool(name='sales_agent1', description='Write a cold sales email', params_json_schema={'properties': {'input': {'title': 'Input', 'type': 'string'}}, 'required': ['input'], 'title': 'sales_agent1_args', 'type': 'object', 'additionalProperties': False}, on_invoke_tool=<function function_tool.<locals>._create_function_tool.<locals>._on_invoke_tool at 0x10d2284c0>, strict_json_schema=True, is_enabled=True),\n",
       " FunctionTool(name='sales_agent2', description='Write a cold sales email', params_json_schema={'properties': {'input': {'title': 'Input', 'type': 'string'}}, 'required': ['input'], 'title': 'sales_agent2_args', 'type': 'object', 'additionalProperties': False}, on_invoke_tool=<function function_tool.<locals>._create_function_tool.<locals>._on_invoke_tool at 0x10d22a560>, strict_json_schema=True, is_enabled=True),\n",
       " FunctionTool(name='sales_agent3', description='Write a cold sales email', params_json_schema={'properties': {'input': {'title': 'Input', 'type': 'string'}}, 'required': ['input'], 'title': 'sales_agent3_args', 'type': 'object', 'additionalProperties': False}, on_invoke_tool=<function function_tool.<locals>._create_function_tool.<locals>._on_invoke_tool at 0x10d229ea0>, strict_json_schema=True, is_enabled=True),\n",
       " FunctionTool(name='send_email', description='Send out an email with the given body to all sales prospects via Gmail SMTP', params_json_schema={'properties': {'body': {'title': 'Body', 'type': 'string'}}, 'required': ['body'], 'title': 'send_email_args', 'type': 'object', 'additionalProperties': False}, on_invoke_tool=<function function_tool.<locals>._create_function_tool.<locals>._on_invoke_tool at 0x10a9f11b0>, strict_json_schema=True, is_enabled=True)]"
      ]
     },
     "execution_count": 18,
     "metadata": {},
     "output_type": "execute_result"
    }
   ],
   "source": [
    "description = \"Write a cold sales email\"\n",
    "\n",
    "tool1 = sales_agent1.as_tool(tool_name=\"sales_agent1\", tool_description=description)\n",
    "tool2 = sales_agent2.as_tool(tool_name=\"sales_agent2\", tool_description=description)\n",
    "tool3 = sales_agent3.as_tool(tool_name=\"sales_agent3\", tool_description=description)\n",
    "\n",
    "tools = [tool1, tool2, tool3, send_email]\n",
    "\n",
    "tools"
   ]
  },
  {
   "cell_type": "code",
   "execution_count": 20,
   "metadata": {},
   "outputs": [],
   "source": [
    "instructions =\"You are a sales manager working for ComplAI. You use the tools given to you to generate cold sales emails. \\\n",
    "You never generate sales emails yourself; you always use the tools. \\\n",
    "You try all 3 sales_agent tools once before choosing the best one. \\\n",
    "Use vietnamese language. \\\n",
    "You pick the single best email and use the send_email tool to send the best email (and only the best email) to the user\"\n",
    "\n",
    "\n",
    "sales_manager = Agent(name=\"Sales Manager\", instructions=instructions, tools=tools, model=\"gpt-4o-mini\")\n",
    "\n",
    "message = \"Send a cold sales email addressed to 'Dear CEO'\"\n",
    "\n",
    "with trace(\"Sales manager\"):\n",
    "    result = await Runner.run(sales_manager, message)"
   ]
  },
  {
   "cell_type": "markdown",
   "metadata": {},
   "source": [
    "## Handoffs represent a way an agent can delegate to an agent, passing control to it"
   ]
  },
  {
   "cell_type": "code",
   "execution_count": 21,
   "metadata": {},
   "outputs": [],
   "source": [
    "subject_instructions = \"You can write a subject for a cold sales email. \\\n",
    "You are given a message and you need to write a subject for an email that is likely to get a response.\"\n",
    "\n",
    "html_instructions = \"You can convert a text email body to an HTML email body. \\\n",
    "You are given a text email body which might have some markdown \\\n",
    "and you need to convert it to an HTML email body with simple, clear, compelling layout and design.\"\n",
    "\n",
    "subject_writer = Agent(name=\"Email subject writer\", instructions=subject_instructions, model=\"gpt-4o-mini\")\n",
    "subject_tool = subject_writer.as_tool(tool_name=\"subject_writer\", tool_description=\"Write a subject for a cold sales email\")\n",
    "\n",
    "html_converter = Agent(name=\"HTML email body converter\", instructions=html_instructions, model=\"gpt-4o-mini\")\n",
    "html_tool = html_converter.as_tool(tool_name=\"html_converter\",tool_description=\"Convert a text email body to an HTML email body\")"
   ]
  },
  {
   "cell_type": "markdown",
   "metadata": {},
   "source": []
  },
  {
   "cell_type": "code",
   "execution_count": 22,
   "metadata": {},
   "outputs": [],
   "source": [
    "@function_tool\n",
    "def send_html_email(subject: str, html_body: str) -> Dict[str, str]:\n",
    "    \"\"\" Send out an email with the given body to all sales prospects via Gmail SMTP \"\"\"\n",
    "    \n",
    "    # Set up email sender, recipient, and content\n",
    "    from_email = os.getenv(\"GMAIL_USER\", \"your_email@gmail.com\")  # Replace with your Gmail address or set as env var\n",
    "    to_email = os.getenv(\"GMAIL_TO\", \"recipient@example.com\")     # Replace with recipient or set as env var\n",
    "    gmail_app_password = os.getenv(\"GMAIL_APP_PASSWORD\", \"your_app_password\")  # Use your Gmail app password or set as env var\n",
    "    # subject = \"Sales email\"\n",
    "    \n",
    "    # Create the email\n",
    "    msg = MIMEText(html_body, 'html')\n",
    "    msg['Subject'] = subject\n",
    "    msg['From'] = from_email\n",
    "    msg['To'] = to_email\n",
    "    \n",
    "    try:\n",
    "        with smtplib.SMTP('smtp.gmail.com', 587) as server:\n",
    "            server.starttls()  # Secure the connection\n",
    "            server.login(from_email, gmail_app_password)\n",
    "            server.send_message(msg)\n",
    "        return {\"status\": \"success\"}\n",
    "    except Exception as e:\n",
    "        return {\"status\": \"failure\", \"message\": str(e)}"
   ]
  },
  {
   "cell_type": "code",
   "execution_count": 23,
   "metadata": {},
   "outputs": [],
   "source": [
    "instructions =\"You are an email formatter and sender. You receive the body of an email to be sent. \\\n",
    "You first use the subject_writer tool to write a subject for the email, then use the html_converter tool to convert the body to HTML. \\\n",
    "Finally, you use the send_html_email tool to send the email with the subject and HTML body.\"\n",
    "\n",
    "\n",
    "emailer_agent = Agent(\n",
    "    name=\"Email Manager\",\n",
    "    instructions=instructions,\n",
    "    tools=tools,\n",
    "    model=\"gpt-4o-mini\",\n",
    "    handoff_description=\"Convert an email to HTML and send it\")"
   ]
  },
  {
   "cell_type": "code",
   "execution_count": 27,
   "metadata": {},
   "outputs": [
    {
     "name": "stdout",
     "output_type": "stream",
     "text": [
      "[FunctionTool(name='sales_agent1', description='Write a cold sales email', params_json_schema={'properties': {'input': {'title': 'Input', 'type': 'string'}}, 'required': ['input'], 'title': 'sales_agent1_args', 'type': 'object', 'additionalProperties': False}, on_invoke_tool=<function function_tool.<locals>._create_function_tool.<locals>._on_invoke_tool at 0x10d2284c0>, strict_json_schema=True, is_enabled=True), FunctionTool(name='sales_agent2', description='Write a cold sales email', params_json_schema={'properties': {'input': {'title': 'Input', 'type': 'string'}}, 'required': ['input'], 'title': 'sales_agent2_args', 'type': 'object', 'additionalProperties': False}, on_invoke_tool=<function function_tool.<locals>._create_function_tool.<locals>._on_invoke_tool at 0x10d22a560>, strict_json_schema=True, is_enabled=True), FunctionTool(name='sales_agent3', description='Write a cold sales email', params_json_schema={'properties': {'input': {'title': 'Input', 'type': 'string'}}, 'required': ['input'], 'title': 'sales_agent3_args', 'type': 'object', 'additionalProperties': False}, on_invoke_tool=<function function_tool.<locals>._create_function_tool.<locals>._on_invoke_tool at 0x10d229ea0>, strict_json_schema=True, is_enabled=True)]\n",
      "[Agent(name='Email Manager', instructions='You are an email formatter and sender. You receive the body of an email to be sent. You first use the subject_writer tool to write a subject for the email, then use the html_converter tool to convert the body to HTML. Finally, you use the send_html_email tool to send the email with the subject and HTML body.', prompt=None, handoff_description='Convert an email to HTML and send it', handoffs=[], model='gpt-4o-mini', model_settings=ModelSettings(temperature=None, top_p=None, frequency_penalty=None, presence_penalty=None, tool_choice=None, parallel_tool_calls=None, truncation=None, max_tokens=None, reasoning=None, metadata=None, store=None, include_usage=None, response_include=None, extra_query=None, extra_body=None, extra_headers=None, extra_args=None), tools=[FunctionTool(name='sales_agent1', description='Write a cold sales email', params_json_schema={'properties': {'input': {'title': 'Input', 'type': 'string'}}, 'required': ['input'], 'title': 'sales_agent1_args', 'type': 'object', 'additionalProperties': False}, on_invoke_tool=<function function_tool.<locals>._create_function_tool.<locals>._on_invoke_tool at 0x10d2284c0>, strict_json_schema=True, is_enabled=True), FunctionTool(name='sales_agent2', description='Write a cold sales email', params_json_schema={'properties': {'input': {'title': 'Input', 'type': 'string'}}, 'required': ['input'], 'title': 'sales_agent2_args', 'type': 'object', 'additionalProperties': False}, on_invoke_tool=<function function_tool.<locals>._create_function_tool.<locals>._on_invoke_tool at 0x10d22a560>, strict_json_schema=True, is_enabled=True), FunctionTool(name='sales_agent3', description='Write a cold sales email', params_json_schema={'properties': {'input': {'title': 'Input', 'type': 'string'}}, 'required': ['input'], 'title': 'sales_agent3_args', 'type': 'object', 'additionalProperties': False}, on_invoke_tool=<function function_tool.<locals>._create_function_tool.<locals>._on_invoke_tool at 0x10d229ea0>, strict_json_schema=True, is_enabled=True), FunctionTool(name='send_email', description='Send out an email with the given body to all sales prospects via Gmail SMTP', params_json_schema={'properties': {'body': {'title': 'Body', 'type': 'string'}}, 'required': ['body'], 'title': 'send_email_args', 'type': 'object', 'additionalProperties': False}, on_invoke_tool=<function function_tool.<locals>._create_function_tool.<locals>._on_invoke_tool at 0x10a9f11b0>, strict_json_schema=True, is_enabled=True)], mcp_servers=[], mcp_config={}, input_guardrails=[], output_guardrails=[], output_type=None, hooks=None, tool_use_behavior='run_llm_again', reset_tool_choice=True)]\n"
     ]
    }
   ],
   "source": [
    "tools = [tool1, tool2, tool3]\n",
    "handoffs = [emailer_agent]\n",
    "print(tools)\n",
    "print(handoffs)"
   ]
  },
  {
   "cell_type": "code",
   "execution_count": 28,
   "metadata": {},
   "outputs": [],
   "source": [
    "sales_manager_instructions = \"You are a sales manager working for ComplAI. You use the tools given to you to generate cold sales emails. \\\n",
    "You never generate sales emails yourself; you always use the tools. \\\n",
    "You try all 3 sales agent tools at least once before choosing the best one. \\\n",
    "You can use the tools multiple times if you're not satisfied with the results from the first try. \\\n",
    "You select the single best email using your own judgement of which email will be most effective. \\\n",
    "After picking the email, you handoff to the Email Manager agent to format and send the email.\"\n",
    "\n",
    "\n",
    "sales_manager = Agent(\n",
    "    name=\"Sales Manager\",\n",
    "    instructions=sales_manager_instructions,\n",
    "    tools=tools,\n",
    "    handoffs=handoffs,\n",
    "    model=\"gpt-4o-mini\")\n",
    "\n",
    "message = \"Send out a cold sales email addressed to Dear CEO from Alice\"\n",
    "\n",
    "with trace(\"Automated SDR\"):\n",
    "    result = await Runner.run(sales_manager, message)"
   ]
  },
  {
   "cell_type": "code",
   "execution_count": null,
   "metadata": {},
   "outputs": [],
   "source": []
  }
 ],
 "metadata": {
  "kernelspec": {
   "display_name": ".venv",
   "language": "python",
   "name": "python3"
  },
  "language_info": {
   "codemirror_mode": {
    "name": "ipython",
    "version": 3
   },
   "file_extension": ".py",
   "mimetype": "text/x-python",
   "name": "python",
   "nbconvert_exporter": "python",
   "pygments_lexer": "ipython3",
   "version": "3.10.11"
  }
 },
 "nbformat": 4,
 "nbformat_minor": 2
}
