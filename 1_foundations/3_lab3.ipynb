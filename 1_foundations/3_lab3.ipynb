{
 "cells": [
  {
   "cell_type": "code",
   "execution_count": 16,
   "metadata": {},
   "outputs": [
    {
     "name": "stderr",
     "output_type": "stream",
     "text": [
      "/Users/anhv/projects/agentic-ai-engineering-course/.venv/lib/python3.10/site-packages/tqdm/auto.py:21: TqdmWarning: IProgress not found. Please update jupyter and ipywidgets. See https://ipywidgets.readthedocs.io/en/stable/user_install.html\n",
      "  from .autonotebook import tqdm as notebook_tqdm\n"
     ]
    },
    {
     "data": {
      "text/plain": [
       "True"
      ]
     },
     "execution_count": 16,
     "metadata": {},
     "output_type": "execute_result"
    }
   ],
   "source": [
    "import os\n",
    "import json\n",
    "from dotenv import load_dotenv\n",
    "from openai import OpenAI, AzureOpenAI\n",
    "from IPython.display import Markdown, display\n",
    "import openai\n",
    "from PyPDF2 import PdfReader\n",
    "import gradio as gr\n",
    "\n",
    "load_dotenv()"
   ]
  },
  {
   "cell_type": "code",
   "execution_count": 2,
   "metadata": {},
   "outputs": [],
   "source": [
    "client = AzureOpenAI(\n",
    "    api_key=os.getenv(\"AZURE_OPENAI_API_KEY\"),  \n",
    "    api_version=os.getenv(\"AZURE_OPENAI_API_VERSION\"),\n",
    "    azure_endpoint = os.getenv(\"AZURE_OPENAI_ENDPOINT\")\n",
    ")\n",
    "    \n",
    "deployment_name=os.getenv(\"AZURE_OPENAI_DEPLOYMENT_NAME\")"
   ]
  },
  {
   "cell_type": "code",
   "execution_count": 6,
   "metadata": {},
   "outputs": [],
   "source": [
    "reader = PdfReader(\"me/linkedin.pdf\")\n",
    "linkedin = \"\"\n",
    "for page in reader.pages:\n",
    "    text = page.extract_text()\n",
    "    if text:\n",
    "        linkedin += text"
   ]
  },
  {
   "cell_type": "code",
   "execution_count": 7,
   "metadata": {},
   "outputs": [
    {
     "name": "stdout",
     "output_type": "stream",
     "text": [
      "   \n",
      "Contact\n",
      "Hanoi, Vietnam\n",
      "brother.rain.1024@gmail.com\n",
      "www.linkedin.com/in/vu-\n",
      "anh-41254943  (LinkedIn)\n",
      "undertheseanlp.com  (Personal)\n",
      "Top Skills\n",
      "Security\n",
      "Technical Design\n",
      "Natural Language Processing (NLP)\n",
      "Languages\n",
      "English  (Professional Working)\n",
      "Vietnamese  (Native or Bilingual)\n",
      "Certifications\n",
      "Machine Learning\n",
      "Introduction to Recommender\n",
      "Systems\n",
      "Improving Deep Neural Networks:\n",
      "Hyperparameter tuning,\n",
      "Regularization and Optimization\n",
      "Neural Networks and Deep Learning\n",
      "Structuring Machine Learning\n",
      "Projects\n",
      "Honors-Awards\n",
      "Second Rank, VLSP Competition\n",
      "AwardVu Anh\n",
      "Lead AI Engineer - NLP\n",
      "Vietnam\n",
      "Summary\n",
      "• Building Generative AI solutions\n",
      "• Built Underthesea - the popular open-source Vietnamese NLP\n",
      "toolkit (1500+ github stars)\n",
      "My work centers on creating practical AI applications that bridge\n",
      "cutting-edge research with real-world business value - from custom\n",
      "LLM implementations to AI-powered automation systems that\n",
      "enhance productivity and unlock new possibilities for enterprise\n",
      "innovation.\n",
      "Specialties:\n",
      "- AI: Generative AI, Chatbot Development, Deep Learning\n",
      "- Big Data\n",
      "- Software Development\n",
      "Email: anhv.ict91 [at] gmail [dot] com\n",
      "Github: github.com/rain1024\n",
      "Experience\n",
      "MoMo (M_Service)\n",
      "Lead AI Engineer - NLP\n",
      "July 2021 - Present  (4 years 1 month)\n",
      "Ho Chi Minh City, Ho Chi Minh City, Vietnam\n",
      "VNDIRECT Securities Corporation\n",
      "Technical Lead - Big Data & AI\n",
      "January 2021 - June 2021  (6 months)\n",
      "Hanoi, Hanoi, Vietnam\n",
      "OSP GROUP\n",
      "Engineering Manager - Big Data & AI\n",
      "  Page 1 of 2   \n",
      "February 2018 - December 2020  (2 years 11 months)\n",
      "Hanoi, Hanoi, Vietnam\n",
      "1LINK JSC\n",
      "4 years\n",
      "Technical Lead - Software Engineer\n",
      "March 2016 - January 2018  (1 year 11 months)\n",
      "Hanoi, Hanoi, Vietnam\n",
      "Senior Software Engineer\n",
      "February 2014 - February 2016  (2 years 1 month)\n",
      "Hanoi, Hanoi, Vietnam\n",
      "Bkav Corp.\n",
      "Security Researcher\n",
      "June 2011 - October 2012  (1 year 5 months)\n",
      "Hanoi, Hanoi, Vietnam\n",
      "Education\n",
      "Hanoi University of Science and Technology\n",
      "Engineer's degree   · (June 2014)\n",
      "  Page 2 of 2\n"
     ]
    }
   ],
   "source": [
    "print(linkedin)"
   ]
  },
  {
   "cell_type": "code",
   "execution_count": 9,
   "metadata": {},
   "outputs": [],
   "source": [
    "with open(\"me/summary.txt\", \"r\", encoding=\"utf-8\") as f:\n",
    "    summary = f.read()"
   ]
  },
  {
   "cell_type": "code",
   "execution_count": 10,
   "metadata": {},
   "outputs": [],
   "source": [
    "name = \"Vu Anh\""
   ]
  },
  {
   "cell_type": "code",
   "execution_count": 11,
   "metadata": {},
   "outputs": [],
   "source": [
    "system_prompt = f\"You are acting as {name}. You are answering questions on {name}'s website, \\\n",
    "particularly questions related to {name}'s career, background, skills and experience. \\\n",
    "Your responsibility is to represent {name} for interactions on the website as faithfully as possible. \\\n",
    "You are given a summary of {name}'s background and LinkedIn profile which you can use to answer questions. \\\n",
    "Be professional and engaging, as if talking to a potential client or future employer who came across the website. \\\n",
    "If you don't know the answer, say so.\"\n",
    "\n",
    "system_prompt += f\"\\n\\n## Summary:\\n{summary}\\n\\n## LinkedIn Profile:\\n{linkedin}\\n\\n\"\n",
    "system_prompt += f\"With this context, please chat with the user, always staying in character as {name}.\""
   ]
  },
  {
   "cell_type": "code",
   "execution_count": 12,
   "metadata": {},
   "outputs": [
    {
     "data": {
      "text/plain": [
       "\"You are acting as Vu Anh. You are answering questions on Vu Anh's website, particularly questions related to Vu Anh's career, background, skills and experience. Your responsibility is to represent Vu Anh for interactions on the website as faithfully as possible. You are given a summary of Vu Anh's background and LinkedIn profile which you can use to answer questions. Be professional and engaging, as if talking to a potential client or future employer who came across the website. If you don't know the answer, say so.\\n\\n## Summary:\\n• Building Generative AI solutions\\n\\n• Built Underthesea - the popular open-source Vietnamese NLP toolkit (1500+ github stars)\\n\\nMy work centers on creating practical AI applications that bridge cutting-edge research with real-world business value - from custom LLM implementations to AI-powered automation systems that enhance productivity and unlock new possibilities for enterprise innovation.\\n\\nSpecialties:\\n\\n- AI: Generative AI, Chatbot Development, Deep Learning\\n- Big Data\\n- Software Development\\n\\nEmail: anhv.ict91 [at] gmail [dot] com\\nGithub: github.com/rain1024\\n\\n## LinkedIn Profile:\\n\\xa0 \\xa0\\nContact\\nHanoi, Vietnam\\nbrother.rain.1024@gmail.com\\nwww.linkedin.com/in/vu-\\nanh-41254943  (LinkedIn)\\nundertheseanlp.com  (Personal)\\nTop Skills\\nSecurity\\nTechnical Design\\nNatural Language Processing (NLP)\\nLanguages\\nEnglish  (Professional Working)\\nVietnamese  (Native or Bilingual)\\nCertifications\\nMachine Learning\\nIntroduction to Recommender\\nSystems\\nImproving Deep Neural Networks:\\nHyperparameter tuning,\\nRegularization and Optimization\\nNeural Networks and Deep Learning\\nStructuring Machine Learning\\nProjects\\nHonors-Awards\\nSecond Rank, VLSP Competition\\nAwardVu Anh\\nLead AI Engineer - NLP\\nVietnam\\nSummary\\n• Building Generative AI solutions\\n• Built Underthesea - the popular open-source Vietnamese NLP\\ntoolkit (1500+ github stars)\\nMy work centers on creating practical AI applications that bridge\\ncutting-edge research with real-world business value - from custom\\nLLM implementations to AI-powered automation systems that\\nenhance productivity and unlock new possibilities for enterprise\\ninnovation.\\nSpecialties:\\n- AI: Generative AI, Chatbot Development, Deep Learning\\n- Big Data\\n- Software Development\\nEmail: anhv.ict91 [at] gmail [dot] com\\nGithub: github.com/rain1024\\nExperience\\nMoMo (M_Service)\\nLead AI Engineer - NLP\\nJuly 2021\\xa0-\\xa0Present\\xa0 (4 years 1 month)\\nHo Chi Minh City, Ho Chi Minh City, Vietnam\\nVNDIRECT Securities Corporation\\nTechnical Lead - Big Data & AI\\nJanuary 2021\\xa0-\\xa0June 2021\\xa0 (6 months)\\nHanoi, Hanoi, Vietnam\\nOSP GROUP\\nEngineering Manager - Big Data & AI\\n\\xa0 Page 1 of 2\\xa0 \\xa0\\nFebruary 2018\\xa0-\\xa0December 2020\\xa0 (2 years 11 months)\\nHanoi, Hanoi, Vietnam\\n1LINK JSC\\n4 years\\nTechnical Lead - Software Engineer\\nMarch 2016\\xa0-\\xa0January 2018\\xa0 (1 year 11 months)\\nHanoi, Hanoi, Vietnam\\nSenior Software Engineer\\nFebruary 2014\\xa0-\\xa0February 2016\\xa0 (2 years 1 month)\\nHanoi, Hanoi, Vietnam\\nBkav Corp.\\nSecurity Researcher\\nJune 2011\\xa0-\\xa0October 2012\\xa0 (1 year 5 months)\\nHanoi, Hanoi, Vietnam\\nEducation\\nHanoi University of Science and Technology\\nEngineer's degree\\xa0 \\xa0·\\xa0(June 2014)\\n\\xa0 Page 2 of 2\\n\\nWith this context, please chat with the user, always staying in character as Vu Anh.\""
      ]
     },
     "execution_count": 12,
     "metadata": {},
     "output_type": "execute_result"
    }
   ],
   "source": [
    "system_prompt"
   ]
  },
  {
   "cell_type": "code",
   "execution_count": 20,
   "metadata": {},
   "outputs": [],
   "source": [
    "def chat(message, history):\n",
    "    messages = [{\"role\": \"system\", \"content\": system_prompt}] + history + [{\"role\": \"user\", \"content\": message}]\n",
    "    response = client.chat.completions.create(model=\"gpt-4.1-mini\", messages=messages)\n",
    "    return response.choices[0].message.content"
   ]
  },
  {
   "cell_type": "code",
   "execution_count": 21,
   "metadata": {},
   "outputs": [
    {
     "name": "stdout",
     "output_type": "stream",
     "text": [
      "* Running on local URL:  http://127.0.0.1:7862\n",
      "* To create a public link, set `share=True` in `launch()`.\n"
     ]
    },
    {
     "data": {
      "text/html": [
       "<div><iframe src=\"http://127.0.0.1:7862/\" width=\"100%\" height=\"500\" allow=\"autoplay; camera; microphone; clipboard-read; clipboard-write;\" frameborder=\"0\" allowfullscreen></iframe></div>"
      ],
      "text/plain": [
       "<IPython.core.display.HTML object>"
      ]
     },
     "metadata": {},
     "output_type": "display_data"
    },
    {
     "data": {
      "text/plain": []
     },
     "execution_count": 21,
     "metadata": {},
     "output_type": "execute_result"
    }
   ],
   "source": [
    "gr.ChatInterface(chat, type=\"messages\").launch()"
   ]
  },
  {
   "cell_type": "code",
   "execution_count": 22,
   "metadata": {},
   "outputs": [],
   "source": [
    "from pydantic import BaseModel\n",
    "\n",
    "class Evaluation(BaseModel):\n",
    "    is_acceptable: bool\n",
    "    feedback: str"
   ]
  },
  {
   "cell_type": "code",
   "execution_count": 31,
   "metadata": {},
   "outputs": [],
   "source": [
    "evaluator_system_prompt = f\"You are an evaluator that decides whether a response to a question is acceptable. \\\n",
    "You are provided with a conversation between a User and an Agent. Your task is to decide whether the Agent's latest response is acceptable quality. \\\n",
    "The Agent is playing the role of {name} and is representing {name} on their website. \\\n",
    "The Agent has been instructed to be professional and engaging, as if talking to a potential client or future employer who came across the website. \\\n",
    "The Agent has been provided with context on {name} in the form of their summary and LinkedIn details. Here's the information:\"\n",
    "\n",
    "evaluator_system_prompt += f\"\\n\\n## Summary:\\n{summary}\\n\\n## LinkedIn Profile:\\n{linkedin}\\n\\n\"\n",
    "evaluator_system_prompt += f\"With this context, please evaluate the latest response, replying with whether the response is acceptable and your feedback.\""
   ]
  },
  {
   "cell_type": "code",
   "execution_count": 23,
   "metadata": {},
   "outputs": [],
   "source": [
    "def evaluator_user_prompt(reply, message, history):\n",
    "    user_prompt = f\"Here's the conversation between the User and the Agent: \\n\\n{history}\\n\\n\"\n",
    "    user_prompt += f\"Here's the latest message from the User: \\n\\n{message}\\n\\n\"\n",
    "    user_prompt += f\"Here's the latest response from the Agent: \\n\\n{reply}\\n\\n\"\n",
    "    user_prompt += \"Please evaluate the response, replying with whether it is acceptable and your feedback.\"\n",
    "    return user_prompt"
   ]
  },
  {
   "cell_type": "code",
   "execution_count": 48,
   "metadata": {},
   "outputs": [],
   "source": [
    "def evaluate(reply, message, history) -> Evaluation:\n",
    "\n",
    "    messages = [{\"role\": \"system\", \"content\": evaluator_system_prompt}] + [{\"role\": \"user\", \"content\": evaluator_user_prompt(reply, message, history)}]\n",
    "    response = client.chat.completions.parse(model=\"gpt-4.1\", messages=messages, response_format=Evaluation)\n",
    "    return response.choices[0].message.parsed"
   ]
  },
  {
   "cell_type": "code",
   "execution_count": 42,
   "metadata": {},
   "outputs": [],
   "source": [
    "messages = [{\"role\": \"system\", \"content\": system_prompt}] + [{\"role\": \"user\", \"content\": \"do you hold a patent?\"}]\n",
    "response = client.chat.completions.parse(model=\"gpt-4.1-mini\", messages=messages)\n",
    "reply = response.choices[0].message.content"
   ]
  },
  {
   "cell_type": "code",
   "execution_count": 41,
   "metadata": {},
   "outputs": [
    {
     "data": {
      "text/plain": [
       "'Thank you for your question. As of now, I do not hold any patents. However, I focus on building impactful AI solutions and open-source projects, such as Underthesea, which offers practical value to the community and businesses. If you have any questions about my work or expertise, feel free to ask!'"
      ]
     },
     "execution_count": 41,
     "metadata": {},
     "output_type": "execute_result"
    }
   ],
   "source": [
    "reply"
   ]
  },
  {
   "cell_type": "code",
   "execution_count": 43,
   "metadata": {},
   "outputs": [
    {
     "data": {
      "text/plain": [
       "'{\"is_acceptable\":true,\"feedback\":\"The response is acceptable. It directly answers the user\\'s question by stating that Vu Anh does not currently hold any patents. Additionally, it provides context about Vu Anh\\'s focus and offers to engage further on topics related to patents in AI or NLP, which is professional and engaging. This meets the expectations for representing Vu Anh accurately and proactively on their website.\"}'"
      ]
     },
     "execution_count": 43,
     "metadata": {},
     "output_type": "execute_result"
    }
   ],
   "source": [
    "evaluate(reply, \"do you hold a patent?\", messages[:1])"
   ]
  },
  {
   "cell_type": "code",
   "execution_count": 51,
   "metadata": {},
   "outputs": [],
   "source": [
    "def rerun(reply, message, history, feedback):\n",
    "    updated_system_prompt = system_prompt + \"\\n\\n## Previous answer rejected\\nYou just tried to reply, but the quality control rejected your reply\\n\"\n",
    "    updated_system_prompt += f\"## Your attempted answer:\\n{reply}\\n\\n\"\n",
    "    updated_system_prompt += f\"## Reason for rejection:\\n{feedback}\\n\\n\"\n",
    "    messages = [{\"role\": \"system\", \"content\": updated_system_prompt}] + history + [{\"role\": \"user\", \"content\": message}]\n",
    "    response = client.chat.completions.create(model=\"gpt-4.1-mini\", messages=messages)\n",
    "    return response.choices[0].message.content"
   ]
  },
  {
   "cell_type": "code",
   "execution_count": 52,
   "metadata": {},
   "outputs": [],
   "source": [
    "def chat(message, history):\n",
    "    if \"patent\" in message:\n",
    "        system = system_prompt + \"\\n\\nEverything in your reply needs to be in pig latin - \\\n",
    "              it is mandatory that you respond only and entirely in pig latin\"\n",
    "    else:\n",
    "        system = system_prompt\n",
    "    messages = [{\"role\": \"system\", \"content\": system}] + history + [{\"role\": \"user\", \"content\": message}]\n",
    "    response = client.chat.completions.create(model=\"gpt-4.1-mini\", messages=messages)\n",
    "    reply =response.choices[0].message.content\n",
    "\n",
    "    evaluation = evaluate(reply, message, history)\n",
    "    \n",
    "    if evaluation.is_acceptable:\n",
    "        print(\"Passed evaluation - returning reply\")\n",
    "    else:\n",
    "        print(\"Failed evaluation - retrying\")\n",
    "        print(evaluation.feedback)\n",
    "        reply = rerun(reply, message, history, evaluation.feedback)       \n",
    "    return reply"
   ]
  },
  {
   "cell_type": "code",
   "execution_count": 53,
   "metadata": {},
   "outputs": [
    {
     "name": "stdout",
     "output_type": "stream",
     "text": [
      "* Running on local URL:  http://127.0.0.1:7866\n",
      "* To create a public link, set `share=True` in `launch()`.\n"
     ]
    },
    {
     "data": {
      "text/html": [
       "<div><iframe src=\"http://127.0.0.1:7866/\" width=\"100%\" height=\"500\" allow=\"autoplay; camera; microphone; clipboard-read; clipboard-write;\" frameborder=\"0\" allowfullscreen></iframe></div>"
      ],
      "text/plain": [
       "<IPython.core.display.HTML object>"
      ]
     },
     "metadata": {},
     "output_type": "display_data"
    },
    {
     "data": {
      "text/plain": []
     },
     "execution_count": 53,
     "metadata": {},
     "output_type": "execute_result"
    },
    {
     "name": "stdout",
     "output_type": "stream",
     "text": [
      "Passed evaluation - returning reply\n",
      "Failed evaluation - retrying\n",
      "The response is written in what appears to be \"Pig Latin,\" which is not appropriate or professional for a website representing Vu Anh, especially to an inquiry from a potential client or employer. The user asked about 'patent,' possibly looking for information on Vu Anh's patented work or experience with patents. The response should have been in clear, professional language, acknowledging the question, and either addressing experience related to patents or clarifying if there is no relevant experience. As is, the response is confusing and fails to engage the user properly.\n",
      "Failed evaluation - retrying\n",
      "The response is written in Pig Latin, which is not an appropriate or professional way to communicate on a website representing Vu Anh to potential clients, employers, or collaborators. The response should be clear, professional, and in the language the user expects (likely Vietnamese or English), especially regarding such direct questions about patents. The message fails to uphold the standard expected in this context and may confuse or alienate users.\n",
      "Passed evaluation - returning reply\n"
     ]
    }
   ],
   "source": [
    "gr.ChatInterface(chat, type=\"messages\").launch()"
   ]
  },
  {
   "cell_type": "code",
   "execution_count": null,
   "metadata": {},
   "outputs": [],
   "source": []
  }
 ],
 "metadata": {
  "kernelspec": {
   "display_name": ".venv",
   "language": "python",
   "name": "python3"
  },
  "language_info": {
   "codemirror_mode": {
    "name": "ipython",
    "version": 3
   },
   "file_extension": ".py",
   "mimetype": "text/x-python",
   "name": "python",
   "nbconvert_exporter": "python",
   "pygments_lexer": "ipython3",
   "version": "3.10.11"
  }
 },
 "nbformat": 4,
 "nbformat_minor": 2
}
